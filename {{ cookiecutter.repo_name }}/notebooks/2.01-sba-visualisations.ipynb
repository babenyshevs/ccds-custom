{
 "cells": [
  {
   "cell_type": "code",
   "execution_count": 1,
   "metadata": {},
   "outputs": [],
   "source": [
    "%load_ext autoreload\n",
    "%autoreload 2"
   ]
  },
  {
   "cell_type": "markdown",
   "metadata": {},
   "source": [
    "# IMPORTS"
   ]
  },
  {
   "cell_type": "code",
   "execution_count": 5,
   "metadata": {},
   "outputs": [],
   "source": [
    "import os\n",
    "from dotenv import load_dotenv\n",
    "\n",
    "# data\n",
    "import numpy as np\n",
    "import pandas as pd\n",
    "\n",
    "# eda\n",
    "import missingno as msng\n",
    "import sweetviz as sv\n",
    "\n",
    "from src.general.io import from_pickle\n",
    "from src.visualization.plotting import plot_moments_histogram"
   ]
  },
  {
   "cell_type": "markdown",
   "metadata": {},
   "source": [
    "# PATHS & NAMES"
   ]
  },
  {
   "cell_type": "code",
   "execution_count": 4,
   "metadata": {},
   "outputs": [],
   "source": [
    "load_dotenv()\n",
    "\n",
    "RAW_DATA_PATHS = {}\n",
    "for short_name, filename in zip([\"test\"],[\"test.csv\"]):\n",
    "    RAW_DATA_PATHS[short_name] = f\"..{os.getenv('RAW_DATA_DIR')}/{filename}\"\n",
    "\n",
    "\n",
    "EXT_DATA_PATHS = {}\n",
    "for short_name, filename in zip([\"test\"],[\"test.pkl\"]):\n",
    "    EXT_DATA_PATHS[short_name] = f\"..{os.getenv('EXTERNAL_DATA_DIR')}/{filename}\"\n",
    "\n",
    "\n",
    "INTERIM_DATA_PATHS = {}\n",
    "for short_name, filename in zip([\"test\"],[\"test.pkl\"]):\n",
    "    INTERIM_DATA_PATHS[short_name] = f\"..{os.getenv('INTERIM_DATA_DIR')}/{filename}\"\n",
    "\n",
    "\n",
    "EDA_REPORT_PATHS = {}\n",
    "for short_name in RAW_DATA_PATHS.keys():\n",
    "    EDA_REPORT_PATHS[short_name] = f\"..{os.getenv('REPORT_DIR')}/eda_{short_name}.html\"\n",
    "\n",
    "YN_READ = False"
   ]
  },
  {
   "cell_type": "markdown",
   "metadata": {},
   "source": [
    "# DATA"
   ]
  },
  {
   "cell_type": "markdown",
   "metadata": {},
   "source": [
    "## Raw"
   ]
  },
  {
   "cell_type": "markdown",
   "metadata": {},
   "source": [
    "### csv"
   ]
  },
  {
   "cell_type": "code",
   "execution_count": null,
   "metadata": {},
   "outputs": [],
   "source": [
    "if YN_READ:\n",
    "    raw = pd.read_csv(RAW_DATA_PATHS[\"test\"])\n",
    "    raw.info()"
   ]
  },
  {
   "cell_type": "markdown",
   "metadata": {},
   "source": [
    "### excel"
   ]
  },
  {
   "cell_type": "code",
   "execution_count": 6,
   "metadata": {},
   "outputs": [],
   "source": [
    "if YN_READ:\n",
    "    raw = pd.read_excel(RAW_DATA_PATHS[\"test\"])\n",
    "    raw.info()"
   ]
  },
  {
   "cell_type": "markdown",
   "metadata": {},
   "source": [
    "## Interim"
   ]
  },
  {
   "cell_type": "code",
   "execution_count": 7,
   "metadata": {},
   "outputs": [],
   "source": [
    "if YN_READ:\n",
    "    interim = from_pickle(INTERIM_DATA_PATHS[\"test\"])\n",
    "    interim.info()"
   ]
  }
 ],
 "metadata": {
  "kernelspec": {
   "display_name": ".venv",
   "language": "python",
   "name": "python3"
  },
  "language_info": {
   "codemirror_mode": {
    "name": "ipython",
    "version": 3
   },
   "file_extension": ".py",
   "mimetype": "text/x-python",
   "name": "python",
   "nbconvert_exporter": "python",
   "pygments_lexer": "ipython3",
   "version": "3.10.9"
  }
 },
 "nbformat": 4,
 "nbformat_minor": 2
}
